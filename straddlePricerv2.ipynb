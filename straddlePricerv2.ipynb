{
 "cells": [
  {
   "cell_type": "markdown",
   "metadata": {},
   "source": [
    "Wrtie a straddlePricer function that takes volatility and time as inputs"
   ]
  },
  {
   "cell_type": "code",
   "execution_count": 5,
   "metadata": {},
   "outputs": [
    {
     "data": {
      "text/plain": [
       "0.15961737689352445"
      ]
     },
     "execution_count": 5,
     "metadata": {},
     "output_type": "execute_result"
    }
   ],
   "source": [
    "vol=0.2\n",
    "time=1\n",
    "\n",
    "def straddlePricer(vol, time):\n",
    "    return 2. * ((1. / (2 * 3.14) ** 0.5) * vol * time ** 0.5)\n",
    "\n",
    "straddlePricer(vol, time)"
   ]
  },
  {
   "cell_type": "markdown",
   "metadata": {},
   "source": [
    "Updating straddlePricer() to make vol and time optional arguments"
   ]
  },
  {
   "cell_type": "code",
   "execution_count": 9,
   "metadata": {},
   "outputs": [
    {
     "name": "stdout",
     "output_type": "stream",
     "text": [
      "0.15961737689352445\n",
      "0.4514661183864804\n"
     ]
    }
   ],
   "source": [
    "def straddlePricer(vol=0.2, time=1):\n",
    "    return 2. * ((1. / (2 * 3.14) ** 0.5) * vol * time ** 0.5)\n",
    "\n",
    "print(straddlePricer())\n",
    "print(straddlePricer(0.4, 2))"
   ]
  },
  {
   "cell_type": "markdown",
   "metadata": {},
   "source": [
    "Clean up the function with the use of Numpy"
   ]
  },
  {
   "cell_type": "code",
   "execution_count": 12,
   "metadata": {},
   "outputs": [
    {
     "data": {
      "text/plain": [
       "0.1595769121605731"
      ]
     },
     "execution_count": 12,
     "metadata": {},
     "output_type": "execute_result"
    }
   ],
   "source": [
    "import numpy as np\n",
    "\n",
    "def straddlePricer(vol=0.2, time=1):\n",
    "    return 2. * ((1 / np.sqrt(2 * np.pi)) * vol * np.sqrt(time))\n",
    "\n",
    "straddlePricer()"
   ]
  },
  {
   "cell_type": "markdown",
   "metadata": {},
   "source": [
    "Pricing a straddle using a Monte Carlo simulation. Start by generating some variance. There are 2 methods here: \n",
    "\n",
    "1. Divide the variance by time and take the square root to get a daily volatility, or\n",
    "2. take the square root of variance (volatility) and divide by the root of time.\n",
    "\n",
    "Both methods are similar, code below shows it. Moving forward with the Monte Carlo simulation, we'll use option 2."
   ]
  },
  {
   "cell_type": "code",
   "execution_count": 13,
   "metadata": {},
   "outputs": [
    {
     "name": "stdout",
     "output_type": "stream",
     "text": [
      "sqrtVarOverTime: 0.012598815766974242, volOverSqrtTime: 0.01259881576697424, Are they close? True\n"
     ]
    }
   ],
   "source": [
    "vol = 0.2\n",
    "var = vol ** 2\n",
    "sqrtVarOverTime = np.sqrt(var / 252)\n",
    "volOverSqrtTime = vol / np.sqrt(252)\n",
    "valuesEqual = np.isclose(sqrtVarOverTime, volOverSqrtTime)\n",
    "print(f\"sqrtVarOverTime: {sqrtVarOverTime}, volOverSqrtTime: {volOverSqrtTime}, Are they close? {valuesEqual}\")"
   ]
  },
  {
   "cell_type": "code",
   "execution_count": 14,
   "metadata": {},
   "outputs": [
    {
     "data": {
      "text/plain": [
       "0.16598154975905377"
      ]
     },
     "execution_count": 14,
     "metadata": {},
     "output_type": "execute_result"
    }
   ],
   "source": [
    "def straddlePricerMC(vol=0.2, time=1.0, mcPaths=100):\n",
    "    dailyVol = vol / np.sqrt(252.)\n",
    "    resultSum = 0\n",
    "    for _ in range (mcPaths):\n",
    "        resultSum+=np.abs(np.prod(1 + (np.random.normal(0, dailyVol, int(round(time * 252))))) - 1)\n",
    "    return resultSum / mcPaths\n",
    "\n",
    "straddlePricerMC()"
   ]
  },
  {
   "cell_type": "markdown",
   "metadata": {},
   "source": [
    "running straddlePricerMC with different numbers of mcPaths"
   ]
  },
  {
   "cell_type": "code",
   "execution_count": 16,
   "metadata": {},
   "outputs": [
    {
     "name": "stdout",
     "output_type": "stream",
     "text": [
      "1 path: 0.22107082628087782\n",
      "2000 path: 0.1572900754692534\n",
      "5000 path: 0.1615398536305991\n",
      "10000 path: 0.16127942201682777\n",
      "100000 path: 0.15991121754972853\n",
      "Closed form approximation: 0.1595769121605731\n"
     ]
    }
   ],
   "source": [
    "print(f\"1 path: {straddlePricerMC(mcPaths=1)}\")\n",
    "print(f\"2000 path: {straddlePricerMC(mcPaths=2000)}\")\n",
    "print(f\"5000 path: {straddlePricerMC(mcPaths=5000)}\")\n",
    "print(f\"10000 path: {straddlePricerMC(mcPaths=10000)}\")\n",
    "print(f\"100000 path: {straddlePricerMC(mcPaths=100000)}\")\n",
    "print(f\"Closed form approximation: {straddlePricer()}\")"
   ]
  },
  {
   "cell_type": "markdown",
   "metadata": {},
   "source": [
    "Lets upgrade the straddlePricerMC function with pandas"
   ]
  },
  {
   "cell_type": "code",
   "execution_count": 3,
   "metadata": {},
   "outputs": [
    {
     "ename": "ModuleNotFoundError",
     "evalue": "No module named 'pandas'",
     "output_type": "error",
     "traceback": [
      "\u001b[1;31m---------------------------------------------------------------------------\u001b[0m",
      "\u001b[1;31mModuleNotFoundError\u001b[0m                       Traceback (most recent call last)",
      "Cell \u001b[1;32mIn[3], line 1\u001b[0m\n\u001b[1;32m----> 1\u001b[0m \u001b[38;5;28;01mimport\u001b[39;00m \u001b[38;5;21;01mpandas\u001b[39;00m \u001b[38;5;28;01mas\u001b[39;00m \u001b[38;5;21;01mpd\u001b[39;00m\n\u001b[0;32m      2\u001b[0m nDays \u001b[38;5;241m=\u001b[39m time \u001b[38;5;241m*\u001b[39m \u001b[38;5;241m252\u001b[39m\n\u001b[0;32m      3\u001b[0m size \u001b[38;5;241m=\u001b[39m (nDays, \u001b[38;5;241m15\u001b[39m)\n",
      "\u001b[1;31mModuleNotFoundError\u001b[0m: No module named 'pandas'"
     ]
    }
   ],
   "source": [
    "import pandas as pd\n",
    "nDays = time * 252\n",
    "size = (nDays, 15)\n",
    "simulatedAsset = pd.DataFrame(np.random.normal(0, dailyVol, size))\n",
    "simulatedAsset = (1 + simulatedAsset).cumprod()\n",
    "\n",
    "simulatedAsset.tail()\n"
   ]
  },
  {
   "cell_type": "code",
   "execution_count": 4,
   "metadata": {},
   "outputs": [
    {
     "ename": "NameError",
     "evalue": "name 'simulatedAsset' is not defined",
     "output_type": "error",
     "traceback": [
      "\u001b[1;31m---------------------------------------------------------------------------\u001b[0m",
      "\u001b[1;31mNameError\u001b[0m                                 Traceback (most recent call last)",
      "Cell \u001b[1;32mIn[4], line 8\u001b[0m\n\u001b[0;32m      6\u001b[0m fig \u001b[38;5;241m=\u001b[39m plt\u001b[38;5;241m.\u001b[39mfigure(figsize\u001b[38;5;241m=\u001b[39m(\u001b[38;5;241m8\u001b[39m,\u001b[38;5;241m6\u001b[39m))\n\u001b[0;32m      7\u001b[0m ax \u001b[38;5;241m=\u001b[39m plt\u001b[38;5;241m.\u001b[39maxes()\n\u001b[1;32m----> 8\u001b[0m _ \u001b[38;5;241m=\u001b[39m ax\u001b[38;5;241m.\u001b[39mplot(\u001b[43msimulatedAsset\u001b[49m)\n",
      "\u001b[1;31mNameError\u001b[0m: name 'simulatedAsset' is not defined"
     ]
    },
    {
     "data": {
      "image/png": "[encoded data removed]",
      "text/plain": [
       "<Figure size 800x600 with 1 Axes>"
      ]
     },
     "metadata": {},
     "output_type": "display_data"
    }
   ],
   "source": [
    "%matplotlib inline\n",
    "import matplotlib.pyplot as plt\n",
    "\n",
    "plt.style.use('fivethirtyeight')\n",
    "\n",
    "fig = plt.figure(figsize=(8,6))\n",
    "ax = plt.axes()\n",
    "_ = ax.plot(simulatedAsset)"
   ]
  },
  {
   "cell_type": "code",
   "execution_count": 5,
   "metadata": {},
   "outputs": [
    {
     "ename": "NameError",
     "evalue": "name 'pd' is not defined",
     "output_type": "error",
     "traceback": [
      "\u001b[1;31m---------------------------------------------------------------------------\u001b[0m",
      "\u001b[1;31mNameError\u001b[0m                                 Traceback (most recent call last)",
      "Cell \u001b[1;32mIn[5], line 7\u001b[0m\n\u001b[0;32m      4\u001b[0m     price \u001b[38;5;241m=\u001b[39m ((\u001b[38;5;241m1\u001b[39m \u001b[38;5;241m+\u001b[39m randomPaths)\u001b[38;5;241m.\u001b[39mprod() \u001b[38;5;241m-\u001b[39m \u001b[38;5;241m1\u001b[39m)\u001b[38;5;241m.\u001b[39mabs()\u001b[38;5;241m.\u001b[39msum() \u001b[38;5;241m/\u001b[39m mcPaths\n\u001b[0;32m      5\u001b[0m     \u001b[38;5;28;01mreturn\u001b[39;00m price\n\u001b[1;32m----> 7\u001b[0m \u001b[43mstraddlePricerMCWithPD\u001b[49m\u001b[43m(\u001b[49m\u001b[43m)\u001b[49m\n",
      "Cell \u001b[1;32mIn[5], line 3\u001b[0m, in \u001b[0;36mstraddlePricerMCWithPD\u001b[1;34m(vol, time, mcPaths)\u001b[0m\n\u001b[0;32m      1\u001b[0m \u001b[38;5;28;01mdef\u001b[39;00m \u001b[38;5;21mstraddlePricerMCWithPD\u001b[39m(vol\u001b[38;5;241m=\u001b[39m\u001b[38;5;241m0.2\u001b[39m, time\u001b[38;5;241m=\u001b[39m\u001b[38;5;241m1\u001b[39m, mcPaths\u001b[38;5;241m=\u001b[39m\u001b[38;5;241m100000\u001b[39m):\n\u001b[0;32m      2\u001b[0m     dailyVol \u001b[38;5;241m=\u001b[39m vol \u001b[38;5;241m/\u001b[39m (\u001b[38;5;241m252\u001b[39m \u001b[38;5;241m*\u001b[39m\u001b[38;5;241m*\u001b[39m \u001b[38;5;241m0.5\u001b[39m)\n\u001b[1;32m----> 3\u001b[0m     randomPaths \u001b[38;5;241m=\u001b[39m \u001b[43mpd\u001b[49m\u001b[38;5;241m.\u001b[39mDataFrame(np\u001b[38;5;241m.\u001b[39mrandom\u001b[38;5;241m.\u001b[39mnormal(\u001b[38;5;241m0\u001b[39m, dailyVol, (time\u001b[38;5;241m*\u001b[39m\u001b[38;5;241m252\u001b[39m, mcPaths)))\n\u001b[0;32m      4\u001b[0m     price \u001b[38;5;241m=\u001b[39m ((\u001b[38;5;241m1\u001b[39m \u001b[38;5;241m+\u001b[39m randomPaths)\u001b[38;5;241m.\u001b[39mprod() \u001b[38;5;241m-\u001b[39m \u001b[38;5;241m1\u001b[39m)\u001b[38;5;241m.\u001b[39mabs()\u001b[38;5;241m.\u001b[39msum() \u001b[38;5;241m/\u001b[39m mcPaths\n\u001b[0;32m      5\u001b[0m     \u001b[38;5;28;01mreturn\u001b[39;00m price\n",
      "\u001b[1;31mNameError\u001b[0m: name 'pd' is not defined"
     ]
    }
   ],
   "source": [
    "def straddlePricerMCWithPD(vol=0.2, time=1, mcPaths=100000):\n",
    "    dailyVol = vol / (252 ** 0.5)\n",
    "    randomPaths = pd.DataFrame(np.random.normal(0, dailyVol, (time*252, mcPaths)))\n",
    "    price = ((1 + randomPaths).prod() - 1).abs().sum() / mcPaths\n",
    "    return price\n",
    "\n",
    "straddlePricerMCWithPD()"
   ]
  },
  {
   "cell_type": "code",
   "execution_count": null,
   "metadata": {},
   "outputs": [],
   "source": []
  }
 ],
 "metadata": {
  "kernelspec": {
   "display_name": "Python 3",
   "language": "python",
   "name": "python3"
  },
  "language_info": {
   "codemirror_mode": {
    "name": "ipython",
    "version": 3
   },
   "file_extension": ".py",
   "mimetype": "text/x-python",
   "name": "python",
   "nbconvert_exporter": "python",
   "pygments_lexer": "ipython3",
   "version": "3.12.3"
  }
 },
 "nbformat": 4,
 "nbformat_minor": 2
}
