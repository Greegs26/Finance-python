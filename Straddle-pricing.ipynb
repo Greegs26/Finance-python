{
 "cells": [
  {
   "cell_type": "markdown",
   "metadata": {},
   "source": [
    "The goal of this notebook is to write python code to aproximate the price of an ATMF straddle. An ATMF straddle (or At-The-Money Forward straddle) is a type of investment strategy used primarily in options trading. \n",
    "\n",
    "An option is considered \"ATM\" (or At-The-Money) when the strike price of the option is equal to the current price of the underlying asset. A straddle involves buying a call option and a put option with the same strike price/same expiration date. The idea behind a straddle is to profit from significant price movements on the underlying asset regardless of direction. The Forward element of this ATMF straddle dictates that the strike price is set at the forward price expected at the expiration of the option. The forward price is typically calculated based on the current prices plus any carry costs (mainly interests or dividends) until the option's maturity.\n",
    "\n",
    "From JPMorgan Python training course, here is the formula to approximate the price of an ATMF straddle:\n",
    "\n",
    "\n",
    "$$STRADDLE_ATMF=(2/sqrt(2*pi))*F*rho*sqrt(T)$$\n",
    "\n",
    "with:\n",
    "\n",
    "$$rho=implied volatily$$\n",
    "$$T=time to maturity$$\n",
    "$$F=forward of the underlier$$\n",
    "$$pi=pi (of course)$$\n",
    "\n",
    "Components:\n",
    "- 1/sqrt(2*pi): This component is a part of the normalization factor used in the probability density function of a standard normal distribution, often used in formulas derived from the Black-Scholes model.\n",
    "- vol(rho): Implied volatility represents the expected fluctuation in the underlying asset's price. Higher volatility increases the premium of both call and put options because the expected movement of the stock price away from the strike price increases.\n",
    "- sqrt(time): The square root of time reflects how option prices are sensitive not just to the length of time to expiration but to the square root of this time, which aligns with the principles of stochastic processes where variance of stock price returns increases with time.\n",
    "\n",
    "This formula effectively calculates the price of an ATMF straddle by estimating the expected magnitude of the underlying asset's price movement whithin the given time frame, under the assumption of a log-normal distribution of price changes (a common assumption in financial models).\n",
    "- 2x: This represents buying both a call and a put. Since we are buying both a call and a put where both options are at-the-money, their premiums can be expected to be similar, hence the factor of 2.\n",
    "- Volatility and Time: The product of volatility and the square root of time gives a measure of the expected range (standard deviation) of the price movement. Multiplying this by the normalization constant of the normal distribution adjusts this range into a probability-weighted value.\n",
    "\n",
    "Lets start by defining these variables and create the formula and calling it.\n",
    "\n"
   ]
  },
  {
   "cell_type": "code",
   "execution_count": 1,
   "metadata": {},
   "outputs": [
    {
     "name": "stdout",
     "output_type": "stream",
     "text": [
      "0.15961737689352445\n"
     ]
    }
   ],
   "source": [
    "vol=0.2 #this is rho, implied volatiliy\n",
    "time=1. #time to maturity, adding the \".\" to make it a float instead of int\n",
    "\n",
    "#define a function called straddlePricer to be called whenever necessary. Note, **=sqrt\n",
    "def straddlePricer(vol,time):\n",
    "    return 2. * ((1./(2*3.14) ** 0.5) * vol * time ** 0.5)\n",
    "\n",
    "print(straddlePricer(vol,time))"
   ]
  },
  {
   "cell_type": "markdown",
   "metadata": {},
   "source": [
    "This result can be interpreted as the cost of buying both the call and the put option at-the-money forward, as a fraction of the underlying asset's price. In other words, it's bassically 15.93% of the current price of the underlying asset. Let's try making the inputs optional."
   ]
  },
  {
   "cell_type": "code",
   "execution_count": 2,
   "metadata": {},
   "outputs": [
    {
     "name": "stdout",
     "output_type": "stream",
     "text": [
      "0.15961737689352445\n",
      "0.1755791145828769\n",
      "0.24830636511256418\n"
     ]
    }
   ],
   "source": [
    "def straddlePricer(vol=0.2,time=1.0):\n",
    "    return 2. * ((1./(2*3.14) ** 0.5) * vol * time ** 0.5)\n",
    "\n",
    "print(straddlePricer())\n",
    "print(straddlePricer(0.22))\n",
    "print(straddlePricer(0.22, 2.0))"
   ]
  },
  {
   "cell_type": "markdown",
   "metadata": {},
   "source": [
    "Next step, lets try getting rid of the approximation of pi and the **0.5 for sqrt in my function using numpy as np."
   ]
  },
  {
   "cell_type": "code",
   "execution_count": 3,
   "metadata": {},
   "outputs": [
    {
     "name": "stdout",
     "output_type": "stream",
     "text": [
      "0.1595769121605731\n"
     ]
    }
   ],
   "source": [
    "import numpy as np\n",
    "def straddlePricer(vol=0.2,time=1.0):\n",
    "    return 2. * ((1./np.sqrt(2*np.pi)) * vol * np.sqrt(time))\n",
    "\n",
    "print(straddlePricer())\n"
   ]
  },
  {
   "cell_type": "markdown",
   "metadata": {},
   "source": [
    "Next step, lets try pricing the straddle using the Monte Carlo method. \n",
    "\n",
    "The Monte Carlo method is a broad class of computational algorithms that rely on repeated random sampling to obtain numerical results. \n",
    "\n",
    "I won't go into more details of Monte Carlo simulations (see my Physics/Engineering repositories to see where I've learned and applied about Monte Carlo). Monte Carlo is very popular in finance such as risk assessment and modeling financial instruments like options and derivatives.\n",
    "\n",
    "Lets generate a normally distributed set of random numbers to simulate the asset's movement through time."
   ]
  },
  {
   "cell_type": "code",
   "execution_count": 4,
   "metadata": {},
   "outputs": [
    {
     "name": "stdout",
     "output_type": "stream",
     "text": [
      "0.1595769121605731\n",
      "0.1529257084696273\n"
     ]
    }
   ],
   "source": [
    "def straddlePricerMC(vol=0.2,time=1.0, mcPaths=100):\n",
    "    dailyVol=vol/np.sqrt(252.) #252 for 252 trading days in a year since we are looking for daily volatility\n",
    "    resultSum=0\n",
    "    for p in range(mcPaths):\n",
    "        resultSum+=np.abs(np.prod((1+np.random.normal(0, dailyVol, int(round(time*252)))))-1)\n",
    "    return resultSum/mcPaths\n",
    "\n",
    "#for fun, lets compare the result of both functions\n",
    "print(straddlePricer())\n",
    "print(straddlePricerMC())"
   ]
  },
  {
   "cell_type": "markdown",
   "metadata": {},
   "source": [
    "Lets talk a bit about what is going on here.\n",
    "\n",
    "We know variance scales linearly with time. This leaves us with two options:\n",
    "\n",
    "1. divide the variance by time and take the square root to get a daily volatility, or\n",
    "2. take the square root of variance (volatility) and divide by the root of time\n",
    "\n",
    "Lets compare the two methods."
   ]
  },
  {
   "cell_type": "code",
   "execution_count": 6,
   "metadata": {},
   "outputs": [
    {
     "name": "stdout",
     "output_type": "stream",
     "text": [
      "sqrtVarOverTime=0.012598815766974242\n",
      "volOverSqrtTime=0.01259881576697424\n",
      "Are they close? True\n"
     ]
    }
   ],
   "source": [
    "#comparing the two methods\n",
    "vol=0.2\n",
    "var=vol**2\n",
    "sqrtVarOverTime=np.sqrt(var/252)\n",
    "volOverSqrtTime=vol/np.sqrt(252)\n",
    "valuesEqual=np.isclose(sqrtVarOverTime, volOverSqrtTime)\n",
    "print(f'sqrtVarOverTime={sqrtVarOverTime}\\nvolOverSqrtTime={volOverSqrtTime}\\nAre they close? {valuesEqual}')"
   ]
  },
  {
   "cell_type": "markdown",
   "metadata": {},
   "source": [
    "Lets set the default value of our comulative sum to be 0. Next we have a loop using range(mcPaths) to return an iterator over a list of ints starting at 0 and going to n-1."
   ]
  },
  {
   "cell_type": "code",
   "execution_count": 14,
   "metadata": {},
   "outputs": [
    {
     "name": "stdout",
     "output_type": "stream",
     "text": [
      "[0, 1, 2, 3, 4, 5, 6, 7, 8, 9]\n",
      "10\n"
     ]
    }
   ],
   "source": [
    "resultSum=0\n",
    "range10=range(10)\n",
    "lst=list(range10)\n",
    "print(lst)\n",
    "print(len(lst))"
   ]
  },
  {
   "cell_type": "markdown",
   "metadata": {},
   "source": [
    "Lets use "
   ]
  },
  {
   "cell_type": "code",
   "execution_count": 15,
   "metadata": {},
   "outputs": [],
   "source": [
    "def straddlePricerMC(vol=0.2, time=1.0, mcPaths=100):\n",
    "    dailyVol=vol/np.sqrt(252.)\n",
    "    resultSum=0\n",
    "    for _ in range (mcPaths):   #setting \"p\" at \"_\" since we don't want to do anything with p\n",
    "        resultSum+=np.abs(np.prod(1+(np.random.normal(0, dailyVol, int(round(time*252)))))-1)\n",
    "    return resultSum/mcPaths"
   ]
  },
  {
   "cell_type": "code",
   "execution_count": 16,
   "metadata": {},
   "outputs": [
    {
     "data": {
      "text/plain": [
       "0.16093237844012506"
      ]
     },
     "execution_count": 16,
     "metadata": {},
     "output_type": "execute_result"
    }
   ],
   "source": [
    "straddlePricerMC()"
   ]
  },
  {
   "cell_type": "markdown",
   "metadata": {},
   "source": [
    "Now, given we have an asset return timeseries, how much is a straddle woth? We're interest in the terminal value of the asset and because we assume the straddle is struck ATM, we can just take the absolute value of the asset's deviation from the initial value (in this case, 1)"
   ]
  },
  {
   "cell_type": "code",
   "execution_count": 17,
   "metadata": {},
   "outputs": [
    {
     "name": "stdout",
     "output_type": "stream",
     "text": [
      "252\n"
     ]
    },
    {
     "data": {
      "text/plain": [
       "array([ 5.34134400e-03, -1.02877781e-04,  1.03994253e-03,  1.03030066e-02,\n",
       "        3.31071770e-03,  6.49871147e-03, -1.57612996e-03, -8.13647748e-03,\n",
       "       -2.01130758e-02,  2.15709792e-02, -1.06799184e-02, -2.33028779e-03,\n",
       "       -1.99369217e-02,  7.12142111e-03,  2.48361333e-02, -1.73204936e-02,\n",
       "        1.12970615e-02, -4.11589442e-04, -2.23902091e-02, -7.02857696e-03,\n",
       "       -1.68632071e-02,  4.24127744e-03,  1.28802493e-03,  7.24887233e-04,\n",
       "       -8.06709417e-03,  2.62045155e-02, -5.40299964e-03, -2.42084076e-02,\n",
       "        2.57618917e-03, -2.85790852e-02, -9.02400255e-03, -2.55737873e-02,\n",
       "       -1.58197193e-02, -2.83620435e-02,  3.25116718e-03, -6.02998242e-03,\n",
       "        1.51151507e-03, -1.28152147e-02, -1.08670636e-03, -4.42761314e-03,\n",
       "        8.07716925e-03, -6.32018268e-03, -6.89819590e-03, -1.48284682e-03,\n",
       "       -1.27379285e-03,  2.08981055e-03,  2.89444506e-03,  7.03591689e-03,\n",
       "       -1.23581396e-02,  3.76177567e-02,  9.60764294e-03, -1.07134075e-02,\n",
       "        7.45645771e-03,  4.17947272e-04,  2.73724595e-03, -8.07825442e-03,\n",
       "       -1.34202023e-02,  7.00716817e-03,  3.99190018e-03,  2.96453691e-03,\n",
       "        1.24878804e-02, -3.82527369e-03,  4.83191329e-03,  7.92681892e-03,\n",
       "       -6.48114082e-03, -2.16920126e-02,  8.23450513e-03, -1.22335929e-02,\n",
       "        5.43398578e-03,  1.11834649e-02,  4.25185764e-03, -9.01544471e-03,\n",
       "       -1.31084331e-02, -7.86996103e-03,  1.27512588e-02, -8.51299851e-03,\n",
       "       -9.93705102e-03, -1.31522363e-02, -6.26732766e-03,  1.42187355e-02,\n",
       "       -2.35530408e-02, -7.73060478e-03,  4.13192646e-03,  1.62828270e-02,\n",
       "       -3.86895324e-03, -9.11698036e-03, -6.12812449e-03,  1.16690853e-02,\n",
       "        2.06024096e-02, -2.37618144e-02, -2.00713843e-02, -1.50898618e-03,\n",
       "       -1.67933882e-02,  9.43696743e-03,  1.47176000e-02,  2.79424659e-03,\n",
       "        1.17590291e-02,  4.09330762e-03,  1.08742685e-02, -4.20152886e-03,\n",
       "        1.99087970e-02, -2.77628839e-02, -6.73596670e-03,  7.44256340e-03,\n",
       "       -5.38928469e-03,  2.79822275e-03,  7.62629909e-03,  5.67013452e-03,\n",
       "       -1.08531587e-02, -1.07195560e-02, -1.64472301e-02, -3.71389500e-03,\n",
       "       -7.75490791e-03,  1.30562683e-02,  4.98782736e-03, -9.90009233e-03,\n",
       "       -2.23451111e-03,  6.40653524e-03,  7.08380292e-03,  7.52309636e-03,\n",
       "       -4.33171459e-03, -9.10078575e-04, -3.15741103e-04, -2.01919471e-02,\n",
       "       -1.46018747e-02,  1.18539792e-02, -5.40877139e-03, -1.89119433e-02,\n",
       "        6.26020218e-03, -5.65798373e-04,  1.56200960e-04,  1.72115746e-02,\n",
       "        4.87976121e-03,  1.36836049e-03, -1.88596939e-03, -1.06054599e-02,\n",
       "       -2.85974366e-02, -7.62740490e-03,  2.66327427e-02,  5.84091383e-04,\n",
       "        1.79169760e-02, -6.93230740e-03,  1.59372452e-03, -1.09700949e-02,\n",
       "        1.41789584e-03,  1.31788996e-02, -5.35956350e-03, -2.20136638e-02,\n",
       "        3.26285183e-02,  2.57220338e-02,  2.34234240e-02,  1.02549560e-02,\n",
       "       -2.16519471e-02,  1.06089431e-02,  1.59520625e-02, -7.61130723e-03,\n",
       "       -1.29121894e-03, -5.61485068e-03,  3.68586353e-03,  1.38484362e-02,\n",
       "       -1.63549097e-02,  1.33692449e-02,  1.69019855e-03,  6.33911454e-03,\n",
       "        1.86565295e-03, -1.60153671e-03, -1.13903190e-02,  6.64261751e-03,\n",
       "       -2.58068002e-02,  1.04359470e-03, -6.89300509e-03,  7.64093217e-03,\n",
       "       -3.84794446e-03,  6.17459881e-03, -1.57614948e-02,  1.15988083e-02,\n",
       "       -8.04219526e-03,  7.17840619e-03,  1.42272870e-02, -7.25844144e-03,\n",
       "        1.41719734e-02, -6.37056797e-03, -6.75325381e-03, -3.91854981e-03,\n",
       "        1.53981649e-02, -3.17527459e-03, -1.66851473e-02, -1.42675688e-02,\n",
       "       -1.46563516e-02, -1.07656776e-02,  2.92174161e-02,  1.40989689e-02,\n",
       "       -4.24685318e-05, -7.18963807e-03,  3.45291172e-03, -7.32306885e-03,\n",
       "       -3.43310712e-02, -5.02689687e-03, -1.28482162e-02,  1.94946335e-02,\n",
       "        2.10608045e-02,  3.09978677e-02, -5.51605073e-03,  1.08467184e-02,\n",
       "       -1.20203984e-02, -1.65568083e-02, -8.93988359e-03, -1.09405060e-02,\n",
       "        1.53627725e-02,  1.60718482e-02, -3.34360670e-03,  1.07631975e-02,\n",
       "        2.07637554e-04, -4.41351503e-03, -1.15758198e-02,  8.67810831e-04,\n",
       "       -2.20299858e-02,  1.17987138e-03, -1.60945870e-02,  1.38916010e-02,\n",
       "        6.76359298e-03,  8.95325615e-04,  1.58076763e-03,  8.46533375e-03,\n",
       "       -2.33873551e-03, -1.81043336e-02, -7.38899405e-03, -4.39716656e-03,\n",
       "        1.96371839e-05, -1.71091911e-02,  1.86877985e-02,  7.04002180e-03,\n",
       "        3.74799737e-03, -1.05776001e-02, -1.38910707e-02,  5.80742619e-04,\n",
       "        1.73358832e-02, -1.16078361e-02,  2.12720543e-03,  8.55114482e-03,\n",
       "       -4.18063362e-03, -1.76525570e-02,  3.12392788e-03, -1.42433601e-02,\n",
       "        8.08497006e-03, -9.94296392e-03, -4.71652526e-03,  8.64474045e-03,\n",
       "       -2.06839887e-02, -2.87854780e-03, -1.83609443e-02, -1.58088643e-02])"
      ]
     },
     "execution_count": 17,
     "metadata": {},
     "output_type": "execute_result"
    }
   ],
   "source": [
    "time=1\n",
    "nDays=time*252\n",
    "dailyVol=vol/np.sqrt(252.)\n",
    "print(nDays)\n",
    "\n",
    "np.random.normal(0,dailyVol, nDays)"
   ]
  },
  {
   "cell_type": "code",
   "execution_count": 18,
   "metadata": {},
   "outputs": [
    {
     "name": "stdout",
     "output_type": "stream",
     "text": [
      "0.030088573823511933\n"
     ]
    }
   ],
   "source": [
    "np.random.seed(42) #garantee the same result from the two random series\n",
    "\n",
    "returns=np.random.normal(0,dailyVol, time*252)\n",
    "priceAtMaturity=np.prod(1+returns)\n",
    "changeAtMaturity=priceAtMaturity-1\n",
    "absChangeAtMaturity=np.abs(changeAtMaturity)\n",
    "print(absChangeAtMaturity)"
   ]
  },
  {
   "cell_type": "markdown",
   "metadata": {},
   "source": [
    "Lets take another look at what we did using  pandas and perspective"
   ]
  },
  {
   "cell_type": "code",
   "execution_count": 19,
   "metadata": {},
   "outputs": [
    {
     "ename": "ModuleNotFoundError",
     "evalue": "No module named 'pandas'",
     "output_type": "error",
     "traceback": [
      "\u001b[1;31m---------------------------------------------------------------------------\u001b[0m",
      "\u001b[1;31mModuleNotFoundError\u001b[0m                       Traceback (most recent call last)",
      "Cell \u001b[1;32mIn[19], line 1\u001b[0m\n\u001b[1;32m----> 1\u001b[0m \u001b[38;5;28;01mimport\u001b[39;00m \u001b[38;5;21;01mpandas\u001b[39;00m \u001b[38;5;28;01mas\u001b[39;00m \u001b[38;5;21;01mpd\u001b[39;00m\n\u001b[0;32m      2\u001b[0m \u001b[38;5;28;01mfrom\u001b[39;00m \u001b[38;5;21;01mperspective\u001b[39;00m \u001b[38;5;28;01mimport\u001b[39;00m psp\n\u001b[0;32m      3\u001b[0m \u001b[38;5;28mprint\u001b[39m(pd\u001b[38;5;241m.\u001b[39m__version__)\n",
      "\u001b[1;31mModuleNotFoundError\u001b[0m: No module named 'pandas'"
     ]
    }
   ],
   "source": [
    "import pandas as pd\n",
    "from perspective import psp\n",
    "print(pd.__version__)"
   ]
  },
  {
   "cell_type": "code",
   "execution_count": 20,
   "metadata": {},
   "outputs": [
    {
     "name": "stdout",
     "output_type": "stream",
     "text": [
      "0.14729794955899883\n"
     ]
    }
   ],
   "source": [
    "mcPaths=100\n",
    "resultSum=0.\n",
    "for _ in range(mcPaths):\n",
    "    resultSum+=np.abs(np.prod(1+np.random.normal(0., dailyVol, time*252))-1)\n",
    "print(resultSum/mcPaths)"
   ]
  },
  {
   "cell_type": "markdown",
   "metadata": {},
   "source": [
    "Lets use more paths to converge to our original price. We can also check the time our function takes to run."
   ]
  },
  {
   "cell_type": "code",
   "execution_count": 22,
   "metadata": {},
   "outputs": [
    {
     "name": "stdout",
     "output_type": "stream",
     "text": [
      "29.8 ms ± 178 µs per loop (mean ± std. dev. of 7 runs, 10 loops each)\n"
     ]
    }
   ],
   "source": [
    "straddlePricerMC(mcPaths=2000)\n",
    "%timeit straddlePricerMC(mcPaths=2000)"
   ]
  },
  {
   "cell_type": "markdown",
   "metadata": {},
   "source": [
    "Lets do multiple different paths"
   ]
  },
  {
   "cell_type": "code",
   "execution_count": 23,
   "metadata": {},
   "outputs": [
    {
     "name": "stdout",
     "output_type": "stream",
     "text": [
      "1 path: 0.021322617958779544\n",
      "2000 path: 0.16044298937916354\n",
      "5000 path: 0.16131340073073527\n",
      "10000 path: 0.15926525612955403\n",
      "100000 path: 0.15950484412394839\n",
      "Closed form approximation 0.1595769121605731\n"
     ]
    }
   ],
   "source": [
    "print(f\"1 path: {straddlePricerMC(mcPaths=1)}\")\n",
    "print(f\"2000 path: {straddlePricerMC(mcPaths=2000)}\")\n",
    "print(f\"5000 path: {straddlePricerMC(mcPaths=5000)}\")\n",
    "print(f\"10000 path: {straddlePricerMC(mcPaths=10000)}\")\n",
    "print(f\"100000 path: {straddlePricerMC(mcPaths=100000)}\")\n",
    "print(f\"Closed form approximation {straddlePricer()}\")"
   ]
  },
  {
   "cell_type": "code",
   "execution_count": null,
   "metadata": {},
   "outputs": [],
   "source": []
  }
 ],
 "metadata": {
  "kernelspec": {
   "display_name": "Python 3",
   "language": "python",
   "name": "python3"
  },
  "language_info": {
   "codemirror_mode": {
    "name": "ipython",
    "version": 3
   },
   "file_extension": ".py",
   "mimetype": "text/x-python",
   "name": "python",
   "nbconvert_exporter": "python",
   "pygments_lexer": "ipython3",
   "version": "3.12.3"
  }
 },
 "nbformat": 4,
 "nbformat_minor": 2
}
