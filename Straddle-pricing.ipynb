{
 "cells": [
  {
   "cell_type": "markdown",
   "metadata": {},
   "source": [
    "The goal of this notebook is to write python code to aproximate the price of an ATMF straddle. An ATMF straddle (or At-The-Money Forward straddle) is a type of investment strategy used primarily in options trading. \n",
    "\n",
    "An option is considered \"ATM\" (or At-The-Money) when the strike price of the option is equal to the current price of the underlying asset. A straddle involves buying a call option and a put option with the same strike price/same expiration date. The idea behind a straddle is to profit from significant price movements on the underlying asset regardless of direction. The Forward element of this ATMF straddle dictates that the strike price is set at the forward price expected at the expiration of the option. The forward price is typically calculated based on the current prices plus any carry costs (mainly interests or dividends) until the option's maturity.\n",
    "\n",
    "From JPMorgan Python training course, here is the formula to approximate the price of an ATMF straddle:\n",
    "\n",
    "\n",
    "$$STRADDLE_ATMF=(2/sqrt(2*pi))*F*rho*sqrt(T)$$\n",
    "\n",
    "with:\n",
    "\n",
    "$$rho=implied volatily$$\n",
    "$$T=time to maturity$$\n",
    "$$F=forward of the underlier$$\n",
    "$$pi=pi (of course)$$\n",
    "\n",
    "Components:\n",
    "- 1/sqrt(2*pi): This component is a part of the normalization factor used in the probability density function of a standard normal distribution, often used in formulas derived from the Black-Scholes model.\n",
    "- vol(rho): Implied volatility represents the expected fluctuation in the underlying asset's price. Higher volatility increases the premium of both call and put options because the expected movement of the stock price away from the strike price increases.\n",
    "- sqrt(time): The square root of time reflects how option prices are sensitive not just to the length of time to expiration but to the square root of this time, which aligns with the principles of stochastic processes where variance of stock price returns increases with time.\n",
    "\n",
    "This formula effectively calculates the price of an ATMF straddle by estimating the expected magnitude of the underlying asset's price movement whithin the given time frame, under the assumption of a log-normal distribution of price changes (a common assumption in financial models).\n",
    "- 2x: This represents buying both a call and a put. Since we are buying both a call and a put where both options are at-the-money, their premiums can be expected to be similar, hence the factor of 2.\n",
    "- Volatility and Time: The product of volatility and the square root of time gives a measure of the expected range (standard deviation) of the price movement. Multiplying this by the normalization constant of the normal distribution adjusts this range into a probability-weighted value.\n",
    "\n",
    "Lets start by defining these variables and create the formula and calling it.\n",
    "\n"
   ]
  },
  {
   "cell_type": "code",
   "execution_count": 16,
   "metadata": {},
   "outputs": [
    {
     "name": "stdout",
     "output_type": "stream",
     "text": [
      "0.15961737689352445\n"
     ]
    }
   ],
   "source": [
    "vol=0.2 #this is rho, implied volatiliy\n",
    "time=1. #time to maturity, adding the \".\" to make it a float instead of int\n",
    "\n",
    "#define a function called straddlePricer to be called whenever necessary. Note, **=sqrt\n",
    "def straddlePricer(vol,time):\n",
    "    return 2. * ((1./(2*3.14) ** 0.5) * vol * time ** 0.5)\n",
    "\n",
    "print(straddlePricer(vol,time))"
   ]
  },
  {
   "cell_type": "markdown",
   "metadata": {},
   "source": [
    "This result can be interpreted as the cost of buying both the call and the put option at-the-money forward, as a fraction of the underlying asset's price. In other words, it's bassically 15.93% of the current price of the underlying asset. Let's try making the inputs optional."
   ]
  },
  {
   "cell_type": "code",
   "execution_count": 17,
   "metadata": {},
   "outputs": [
    {
     "name": "stdout",
     "output_type": "stream",
     "text": [
      "0.15961737689352445\n",
      "0.1755791145828769\n",
      "0.24830636511256418\n"
     ]
    }
   ],
   "source": [
    "def straddlePricer(vol=0.2,time=1.0):\n",
    "    return 2. * ((1./(2*3.14) ** 0.5) * vol * time ** 0.5)\n",
    "\n",
    "print(straddlePricer())\n",
    "print(straddlePricer(0.22))\n",
    "print(straddlePricer(0.22, 2.0))"
   ]
  },
  {
   "cell_type": "markdown",
   "metadata": {},
   "source": [
    "Next step, lets try getting rid of the approximation of pi and the **0.5 for sqrt in my function using numpy as np."
   ]
  },
  {
   "cell_type": "code",
   "execution_count": 18,
   "metadata": {},
   "outputs": [
    {
     "name": "stdout",
     "output_type": "stream",
     "text": [
      "0.1595769121605731\n"
     ]
    }
   ],
   "source": [
    "import numpy as np\n",
    "def straddlePricer(vol=0.2,time=1.0):\n",
    "    return 2. * ((1./np.sqrt(2*np.pi)) * vol * np.sqrt(time))\n",
    "\n",
    "print(straddlePricer())\n"
   ]
  },
  {
   "cell_type": "markdown",
   "metadata": {},
   "source": [
    "\n",
    "This is where we start updating the notebook to make it better. We will create a Monte Carlo simulation."
   ]
  },
  {
   "cell_type": "markdown",
   "metadata": {},
   "source": [
    "The Monte Carlo method is a broad class of computational algorithms that rely on repeated random sampling to obtain numerical results. \n",
    "\n",
    "I won't go into more details of Monte Carlo simulations (see my Physics/Engineering repositories to see where I've learned and applied about Monte Carlo). Monte Carlo is very popular in finance such as risk assessment and modeling financial instruments like options and derivatives.\n",
    "\n",
    "To create the Monte Carlo simulations, we need to create some variance. Variance scales linearly with time. We can either:\n",
    "\n",
    "1. divide the variance by time and take the square root to get a daily volatility, or\n",
    "2. take the square root of variance (volatility) and divide by the root of time.\n",
    "\n",
    "Generally, the latter is clearer and simpler to understand since we typically think in vol terms, but lets compare both methods for fun.\n",
    "\n"
   ]
  },
  {
   "cell_type": "code",
   "execution_count": 19,
   "metadata": {},
   "outputs": [
    {
     "name": "stdout",
     "output_type": "stream",
     "text": [
      "sqrtVarOverTime = 0.012598815766974242\n",
      "volOverSqrtTime=0.01259881576697424\n",
      "Are they close? True\n"
     ]
    }
   ],
   "source": [
    "## daily Vol here\n",
    "vol=0.2\n",
    "var=vol**2\n",
    "sqrtVarOverTime=np.sqrt(var/252)\n",
    "volOverSqrtTime=vol/np.sqrt(252)\n",
    "valuesEqual=np.isclose(sqrtVarOverTime, volOverSqrtTime)\n",
    "print(f'sqrtVarOverTime = {sqrtVarOverTime}\\nvolOverSqrtTime={volOverSqrtTime}\\nAre they close? {valuesEqual}')\n"
   ]
  },
  {
   "cell_type": "markdown",
   "metadata": {},
   "source": [
    "Using volOverSqrtTime, we want to generate multiple days of return. np.random.normal takes three optional inputs: mean, standard deviation, and size of the array. \n",
    "\n",
    "Lets generate 252 random numbers, representing a full year of returns. Mean will be set at 0."
   ]
  },
  {
   "cell_type": "code",
   "execution_count": 20,
   "metadata": {},
   "outputs": [
    {
     "name": "stdout",
     "output_type": "stream",
     "text": [
      "252\n"
     ]
    },
    {
     "data": {
      "text/plain": [
       "array([-2.42426747e-03, -3.54659093e-03, -8.95127102e-03,  1.88575908e-02,\n",
       "        4.01804212e-03, -6.45142708e-03,  5.70865292e-03,  1.37676686e-02,\n",
       "        2.14072491e-02,  7.50493197e-03,  8.13083365e-03,  2.16504183e-02,\n",
       "        9.00990176e-03,  1.72390962e-02, -3.99464225e-03, -6.15059403e-03,\n",
       "       -1.21555224e-02,  1.54301093e-02,  6.65568977e-03, -2.50727812e-03,\n",
       "       -4.66510079e-03, -4.17057130e-03, -1.14366344e-02,  2.53343689e-02,\n",
       "        3.47274279e-03,  2.64150194e-02,  1.64851234e-03,  7.91317335e-03,\n",
       "        2.53249252e-02, -1.32869707e-02,  4.55784991e-03,  2.13381987e-03,\n",
       "       -1.16669187e-02,  5.28010935e-03, -1.25491220e-02, -1.69617408e-02,\n",
       "        1.50598506e-02, -1.31208181e-03,  2.33566991e-02,  7.15659927e-03,\n",
       "        8.39307909e-03, -5.22550220e-03, -1.34360252e-02, -5.60204408e-04,\n",
       "       -2.33587846e-03, -5.56635102e-03,  1.48196666e-02, -4.64048738e-03,\n",
       "        8.54148062e-03, -9.03374300e-03, -3.50748884e-03, -4.79073786e-03,\n",
       "       -1.81752749e-03,  1.08587377e-02,  1.18226616e-02,  2.72493098e-03,\n",
       "        3.11647178e-04, -9.54122762e-03, -1.84707209e-02,  6.39377309e-03,\n",
       "        3.72477361e-03, -1.03368375e-02, -2.13905914e-03,  1.71323423e-03,\n",
       "       -4.23541164e-03, -7.94456863e-03,  3.27478361e-03, -3.83799978e-03,\n",
       "       -1.51061856e-02,  8.50221251e-03, -9.69763101e-03,  6.35888089e-04,\n",
       "        2.65254141e-03, -2.51856102e-02, -4.19848194e-03,  5.85591181e-03,\n",
       "        1.53522097e-04,  3.97213173e-03, -8.29941319e-03,  6.70928072e-03,\n",
       "       -1.65459531e-02,  2.64857273e-03, -7.56997038e-03,  2.91680518e-02,\n",
       "       -4.95331239e-03,  5.40280925e-04, -2.45131956e-02, -2.31823593e-02,\n",
       "       -4.53888715e-03, -6.67956393e-03,  3.58998522e-03, -2.53422920e-02,\n",
       "       -8.51093086e-03,  2.15571070e-03, -3.05136527e-03,  1.10704156e-02,\n",
       "        2.92493035e-03,  8.23982259e-03, -5.85833118e-03, -5.51732650e-03,\n",
       "       -1.33145030e-02, -1.42145505e-02, -9.71173093e-03, -8.53060445e-04,\n",
       "       -1.14012266e-02, -8.08305427e-03,  1.60358747e-02,  3.35364625e-03,\n",
       "        2.42591572e-03,  2.29070632e-02, -5.67977422e-03, -5.76696622e-03,\n",
       "       -8.33118458e-03, -6.43286625e-03, -8.08812503e-03,  3.68460480e-03,\n",
       "       -7.49945689e-03,  8.12258948e-03, -1.33203436e-02, -1.18382816e-02,\n",
       "       -1.47478153e-02, -2.90452530e-02,  6.77500927e-03,  2.07274294e-02,\n",
       "       -1.72577476e-02,  4.58460930e-03, -4.66726808e-02, -1.55790239e-02,\n",
       "       -5.13719741e-03, -1.67111578e-03,  1.50499910e-02,  4.12112634e-03,\n",
       "       -3.18870975e-04,  2.73628935e-03,  1.10744661e-02,  4.88409272e-03,\n",
       "       -1.94254353e-02, -3.00283123e-02, -1.87881286e-03, -2.28028349e-03,\n",
       "        3.13056819e-03, -7.26390349e-04, -1.77489077e-02, -1.33612565e-02,\n",
       "        1.48179512e-02, -7.38930910e-03,  4.68226712e-03,  1.56180597e-02,\n",
       "       -5.95505887e-03, -7.27377346e-03, -3.22738056e-03, -5.30439596e-05,\n",
       "        6.37963997e-03,  1.23571718e-02, -2.13747019e-02, -1.87655675e-03,\n",
       "        5.44747943e-03,  5.66575699e-03, -7.92374982e-03,  1.05270316e-02,\n",
       "        1.28770845e-02,  5.78382981e-03,  1.48826134e-03, -8.80405415e-03,\n",
       "        5.60304898e-03,  3.14412672e-03,  4.85192800e-03,  3.46177618e-03,\n",
       "       -1.24550560e-02,  2.73392904e-04, -5.75104343e-03,  1.31750444e-03,\n",
       "        7.67918457e-06, -1.88418553e-02,  6.97358528e-03, -1.55288602e-02,\n",
       "       -2.20148090e-02, -1.22321769e-03, -7.51610799e-03,  2.25079826e-02,\n",
       "        4.81429015e-03, -5.79382034e-03, -1.23435139e-02,  6.23793480e-03,\n",
       "        6.39720573e-03,  4.54744016e-03,  1.10900644e-02, -2.52901318e-03,\n",
       "       -1.03587351e-02, -2.91868315e-03,  1.18363523e-02, -3.74723527e-03,\n",
       "        7.68854720e-03,  2.48432370e-02, -1.26546302e-03,  9.06365964e-05,\n",
       "        1.26322538e-02,  2.14835515e-03,  9.26365161e-03, -4.02548112e-03,\n",
       "       -1.18810733e-02, -6.74975260e-03, -2.67135744e-02, -5.49012859e-03,\n",
       "       -4.93726675e-03, -2.76331862e-03, -2.41303850e-02, -2.90214290e-02,\n",
       "        1.56092719e-02,  1.03416212e-02,  5.79358448e-03,  5.03398364e-03,\n",
       "        2.97815423e-02, -4.99165008e-03,  1.43207271e-02, -7.82784098e-03,\n",
       "        8.22867894e-04, -1.70573689e-02,  6.97169559e-03,  5.74709955e-03,\n",
       "       -2.70770549e-02, -8.14328939e-03,  9.54733381e-03, -4.02602742e-03,\n",
       "       -9.35368459e-03, -1.33137384e-03,  1.80590925e-03, -9.77797715e-03,\n",
       "       -1.67885721e-03,  1.42235357e-03,  1.47380611e-03, -2.35157697e-03,\n",
       "        1.06076472e-02,  8.79214372e-03,  1.44462670e-02,  3.77276721e-04,\n",
       "        4.48719735e-03,  5.40839649e-03, -2.97318406e-02,  1.15524527e-02,\n",
       "       -1.32066757e-02, -2.05103614e-02,  5.20453930e-03, -1.15657174e-02,\n",
       "        3.82561383e-03,  1.62169377e-02,  1.39183277e-02, -7.10499209e-03,\n",
       "        1.42249166e-02, -1.89706959e-02, -1.58737405e-02, -2.00659819e-02])"
      ]
     },
     "execution_count": 20,
     "metadata": {},
     "output_type": "execute_result"
    }
   ],
   "source": [
    "time=1 #time in years\n",
    "nDays=time*252  #252 trading days in a year times the number of years chosen\n",
    "dailyVol=vol/np.sqrt(252.)\n",
    "print(nDays)\n",
    "\n",
    "np.random.normal(0, dailyVol, nDays)"
   ]
  },
  {
   "cell_type": "markdown",
   "metadata": {},
   "source": [
    "Using np.random.normal, we will start building the core of our MC simulation."
   ]
  },
  {
   "cell_type": "code",
   "execution_count": 21,
   "metadata": {},
   "outputs": [
    {
     "name": "stdout",
     "output_type": "stream",
     "text": [
      "0.08419026706340804\n"
     ]
    }
   ],
   "source": [
    "resultSum=np.abs(np.prod(1+(np.random.normal(0, dailyVol, int(round(time*252)))))-1)\n",
    "print(resultSum)"
   ]
  },
  {
   "cell_type": "markdown",
   "metadata": {},
   "source": [
    "We need a for loop that will iterate an \"MCPaths\" amount of time and take the average of resultSum over the number of MCPaths. Lets set the number of mcPaths to 100 and compare to the straddlePricer() function."
   ]
  },
  {
   "cell_type": "code",
   "execution_count": 22,
   "metadata": {},
   "outputs": [
    {
     "name": "stdout",
     "output_type": "stream",
     "text": [
      "0.1595769121605731\n",
      "0.15446790283659495\n"
     ]
    }
   ],
   "source": [
    "def straddlePricerMC(vol=0.2,time=1.0, mcPaths=100):\n",
    "    dailyVol=vol/np.sqrt(252.) \n",
    "    resultSum=0\n",
    "    for _ in range(mcPaths):\n",
    "        resultSum+=np.abs(np.prod((1+np.random.normal(0, dailyVol, int(round(time*252)))))-1)\n",
    "    return resultSum/mcPaths\n",
    "\n",
    "#for fun, lets compare the result of both functions\n",
    "print(straddlePricer())\n",
    "print(straddlePricerMC())"
   ]
  }
 ],
 "metadata": {
  "kernelspec": {
   "display_name": "Python 3",
   "language": "python",
   "name": "python3"
  },
  "language_info": {
   "codemirror_mode": {
    "name": "ipython",
    "version": 3
   },
   "file_extension": ".py",
   "mimetype": "text/x-python",
   "name": "python",
   "nbconvert_exporter": "python",
   "pygments_lexer": "ipython3",
   "version": "3.12.3"
  }
 },
 "nbformat": 4,
 "nbformat_minor": 2
}
